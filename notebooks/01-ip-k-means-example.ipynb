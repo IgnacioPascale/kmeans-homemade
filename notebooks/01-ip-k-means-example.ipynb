{
 "cells": [
  {
   "cell_type": "markdown",
   "id": "3cc73f7a-ecfe-47a9-9e74-111528e51128",
   "metadata": {},
   "source": [
    "# K-Means Homemade"
   ]
  },
  {
   "cell_type": "markdown",
   "id": "8b145cc6-f332-4a2c-8405-ff0bb501eb6f",
   "metadata": {},
   "source": [
    "Below and application of our homemade algorithm, and its benchmark with `sklearn` KMeans."
   ]
  },
  {
   "cell_type": "raw",
   "id": "9097b0a4-4e53-46d5-879e-ab7cc59118c3",
   "metadata": {},
   "source": [
    "# Run this if you're using a different environment and haven't installed the library\n",
    "# You will need to re-start the kernel\n",
    "!pip3 install -e ../"
   ]
  },
  {
   "cell_type": "code",
   "execution_count": null,
   "id": "79062be1-5333-424a-a9e2-661eea2d5bbf",
   "metadata": {},
   "outputs": [],
   "source": [
    "import numpy as np\n",
    "import pandas as pd\n",
    "\n",
    "\n",
    "import matplotlib.pyplot as plt\n",
    "import seaborn as sns\n",
    "\n",
    "from sklearn import datasets\n",
    "from sklearn.cluster import KMeans\n",
    "from sklearn.decomposition import PCA\n",
    "\n",
    "# Import our library\n",
    "import kmeans_homemade.kmeans as khm"
   ]
  },
  {
   "cell_type": "markdown",
   "id": "ef670c67-f2ca-4da7-977a-0d19efb45483",
   "metadata": {},
   "source": [
    "We're using the `iris` dataset for this benchmark. See more [here](https://scikit-learn.org/stable/auto_examples/datasets/plot_iris_dataset.html)."
   ]
  },
  {
   "cell_type": "code",
   "execution_count": null,
   "id": "5cc49344-8c45-442b-b462-1e3cc25c33a5",
   "metadata": {},
   "outputs": [],
   "source": [
    "iris = datasets.load_iris()\n",
    "X = iris.data\n",
    "y = iris.target\n",
    "\n",
    "X[:5, :]"
   ]
  },
  {
   "cell_type": "code",
   "execution_count": null,
   "id": "0a6507ab-9ee0-48c9-b086-3efccd143a61",
   "metadata": {},
   "outputs": [],
   "source": [
    "x_train = pd.DataFrame(X, columns = iris.feature_names)\n",
    "x_train.head()"
   ]
  },
  {
   "cell_type": "markdown",
   "id": "2963e599-931e-45d4-b99d-dec17cfe217e",
   "metadata": {},
   "source": [
    "Quickly apply PCA on 2d to visualize it"
   ]
  },
  {
   "cell_type": "code",
   "execution_count": null,
   "id": "ab4af2f9-81f9-4588-adb6-6ed33ba0ae18",
   "metadata": {},
   "outputs": [],
   "source": [
    "# Reduce Dimensionality\n",
    "pca_2d = PCA(n_components = 2).fit_transform(x_train)\n",
    "pca_2d = pd.DataFrame(pca_2d)\n",
    "\n",
    "# Plot\n",
    "plt.figure(figsize=(15, 15))\n",
    "sns.scatterplot(data = pca_2d, x = 0, y = 1)"
   ]
  },
  {
   "cell_type": "markdown",
   "id": "159dc607-f6b6-43f7-bb76-b8e1c7bd6cbc",
   "metadata": {
    "tags": []
   },
   "source": [
    "## Fitting KMeans Homemade\n",
    "\n",
    "We can load the data into our object and `fit` KMeans"
   ]
  },
  {
   "cell_type": "code",
   "execution_count": null,
   "id": "a2ca8db2-8bae-432f-90ee-9c35c78e6618",
   "metadata": {},
   "outputs": [],
   "source": [
    "# Load object\n",
    "k_model = khm.KMeans(n_clusters = 3 , X = x_train)"
   ]
  },
  {
   "cell_type": "code",
   "execution_count": null,
   "id": "78999ba4-519f-4df3-b27e-ef33e70edb30",
   "metadata": {},
   "outputs": [],
   "source": [
    "k_model.__doc__.split('\\n')"
   ]
  },
  {
   "cell_type": "code",
   "execution_count": null,
   "id": "8617448f-8fd3-4683-9505-6bceb66fec0c",
   "metadata": {},
   "outputs": [],
   "source": [
    "k_model.fit()"
   ]
  },
  {
   "cell_type": "markdown",
   "id": "fe9c3dc5-d3dd-4661-90a9-f5170bee5f6b",
   "metadata": {},
   "source": [
    "### Attributes"
   ]
  },
  {
   "cell_type": "code",
   "execution_count": null,
   "id": "cdc29d1a-b253-46bb-898f-b26eedc18391",
   "metadata": {},
   "outputs": [],
   "source": [
    "# Number of iterations\n",
    "print(f'\\nNumber of iterations \\n {k_model.n_iter}')\n",
    "\n",
    "# Cluster centroids\n",
    "print(f'\\nCluster centroids \\n {k_model._centroids}')\n",
    "\n",
    "# Assigned clusters/labels\n",
    "print(f'\\nAssigned Clusters \\n {k_model._clusters}')\n",
    "\n",
    "# Feature names (if available)\n",
    "print(f'\\nFeature Names \\n {k_model.features}')\n",
    "\n",
    "# Total Variance\n",
    "print(f'\\nTotal Variance \\n {k_model.total_sse}')"
   ]
  },
  {
   "cell_type": "markdown",
   "id": "a4cddeaf-ea64-44ec-a890-35150d993d3b",
   "metadata": {},
   "source": [
    "### Visualising Clusters"
   ]
  },
  {
   "cell_type": "code",
   "execution_count": null,
   "id": "01928c10-0e14-4040-92f6-eb676e84b8d0",
   "metadata": {},
   "outputs": [],
   "source": [
    "print(k_model.n_iter)\n",
    "pca_2d['labels'] = k_model._clusters\n",
    "\n",
    "import seaborn as sns\n",
    "plt.figure(figsize=(15, 15))\n",
    "sns.scatterplot(data = pca_2d, x= 0, y=1, hue = \"labels\")"
   ]
  },
  {
   "cell_type": "markdown",
   "id": "9103443a-25ce-4087-86bd-404f864bea54",
   "metadata": {},
   "source": [
    "## Benchmarking\n",
    "\n",
    "We can benchmark this model with that applied from `sklearn`.\n",
    "\n",
    "In this case, we choose `init='random'`. This will do the same as our homemade algorithm: initialize random clusters.\n",
    "\n",
    "By default, `KMeans` uses a smarter and faster way of initialising random centroids, instead of random clusters. This ensures faster convergence.\n",
    "\n",
    "We're too lazy to do that here so we will compare the random method."
   ]
  },
  {
   "cell_type": "code",
   "execution_count": null,
   "id": "b53bfbc5-106b-4446-b15c-2833b812aab1",
   "metadata": {},
   "outputs": [],
   "source": [
    "fit_k_sk = KMeans(n_clusters = 3, init = 'random', random_state = 24).fit(x_train)\n",
    "\n",
    "# Add Labels to PCA\n",
    "pca_2d['labels_sk'] = fit_k_sk.predict(x_train)\n",
    "plt.figure(figsize=(15, 15))\n",
    "sns.scatterplot(data = pca_2d, x= 0, y=1, hue = \"labels_sk\")"
   ]
  },
  {
   "cell_type": "code",
   "execution_count": null,
   "id": "aff39158-1a45-49d2-9dc6-c466af41abc9",
   "metadata": {},
   "outputs": [],
   "source": [
    "print(f'Comparing Score: \\n sklearn KMeans {-fit_k_sk.score(X)} \\n Homemade KMeans {k_model.total_sse}')"
   ]
  },
  {
   "cell_type": "code",
   "execution_count": null,
   "id": "627cde97-eb45-4a02-8b87-4ab27db13a37",
   "metadata": {},
   "outputs": [],
   "source": [
    "print(f'Comparing centroids: \\n sklearn KMeans \\n {fit_k_sk.cluster_centers_} \\n\\n Homemade KMeans \\n{k_model._centroids}')"
   ]
  },
  {
   "cell_type": "code",
   "execution_count": null,
   "id": "f12c80e7-2cdf-454d-b32f-5ef53b048d84",
   "metadata": {},
   "outputs": [],
   "source": [
    "print(f'Comparing iterations: \\n sklearn KMeans \\n {fit_k_sk.n_iter_} \\n Homemade KMeans \\n{k_model.n_iter}')"
   ]
  },
  {
   "cell_type": "markdown",
   "id": "c7b12b1b-c87f-4c80-b872-3075ff6990b9",
   "metadata": {},
   "source": [
    "Only one point was slightly misclassified by our algorithm, in comparison with sklearn."
   ]
  },
  {
   "cell_type": "markdown",
   "id": "8e8c6dc5-5140-4d29-a49b-6c8a86b88da3",
   "metadata": {},
   "source": [
    "# Conclusion"
   ]
  },
  {
   "cell_type": "markdown",
   "id": "9fd178cd-3caf-4ee0-b3e4-f011fd153879",
   "metadata": {},
   "source": [
    "Above a comparison of our homemade KMeans model with `sklearn` KMeans. Our model is clearly not as efficient, and no one is ever going to use it, but this shows to prove how we can easily de-mistify an algorithm with some lines of code, and little help from external libraries."
   ]
  }
 ],
 "metadata": {
  "kernelspec": {
   "display_name": "Python 3 (ipykernel)",
   "language": "python",
   "name": "python3"
  },
  "language_info": {
   "codemirror_mode": {
    "name": "ipython",
    "version": 3
   },
   "file_extension": ".py",
   "mimetype": "text/x-python",
   "name": "python",
   "nbconvert_exporter": "python",
   "pygments_lexer": "ipython3",
   "version": "3.8.13"
  }
 },
 "nbformat": 4,
 "nbformat_minor": 5
}
